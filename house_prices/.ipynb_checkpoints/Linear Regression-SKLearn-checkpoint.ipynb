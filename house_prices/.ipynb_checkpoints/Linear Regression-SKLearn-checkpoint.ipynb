{
 "cells": [
  {
   "cell_type": "code",
   "execution_count": 251,
   "metadata": {
    "collapsed": true
   },
   "outputs": [],
   "source": [
    "import pandas as pd\n",
    "import numpy as np\n",
    "import random"
   ]
  },
  {
   "cell_type": "code",
   "execution_count": 252,
   "metadata": {
    "collapsed": false
   },
   "outputs": [
    {
     "name": "stdout",
     "output_type": "stream",
     "text": [
      "Training data(1168,81)\n",
      "      Id  MSSubClass MSZoning  LotFrontage  LotArea Street Alley LotShape  \\\n",
      "674  675          20       RL         80.0     9200   Pave   NaN      Reg   \n",
      "828  829          60       RL          NaN    28698   Pave   NaN      IR2   \n",
      "864  865          20       FV         72.0     8640   Pave   NaN      Reg   \n",
      "465  466         120       RM          NaN     3072   Pave   NaN      Reg   \n",
      "212  213          60       FV         72.0     8640   Pave   NaN      Reg   \n",
      "\n",
      "    LandContour Utilities    ...     PoolArea PoolQC Fence MiscFeature  \\\n",
      "674         Lvl    AllPub    ...            0    NaN   NaN         NaN   \n",
      "828         Low    AllPub    ...            0    NaN   NaN         NaN   \n",
      "864         Lvl    AllPub    ...            0    NaN   NaN         NaN   \n",
      "465         Lvl    AllPub    ...            0    NaN   NaN         NaN   \n",
      "212         Lvl    AllPub    ...            0    NaN   NaN         NaN   \n",
      "\n",
      "    MiscVal MoSold YrSold  SaleType  SaleCondition  SalePrice  \n",
      "674       0      7   2008        WD         Normal     140000  \n",
      "828       0      6   2009        WD        Abnorml     185000  \n",
      "864       0      5   2008       New        Partial     250580  \n",
      "465       0      5   2006        WD         Normal     178740  \n",
      "212       0      7   2009       New        Partial     252678  \n",
      "\n",
      "[5 rows x 81 columns]\n",
      "\n",
      "Validation data(292,81)\n",
      "        Id  MSSubClass MSZoning  LotFrontage  LotArea Street Alley LotShape  \\\n",
      "119    120          60       RL         65.0     8461   Pave   NaN      Reg   \n",
      "1212  1213          30       RL         50.0     9340   Pave   NaN      Reg   \n",
      "401    402          20       RL         65.0     8767   Pave   NaN      IR1   \n",
      "1131  1132          20       RL         63.0    10712   Pave   NaN      Reg   \n",
      "547    548          85       RL         54.0     7244   Pave   NaN      Reg   \n",
      "\n",
      "     LandContour Utilities    ...     PoolArea PoolQC  Fence MiscFeature  \\\n",
      "119          Lvl    AllPub    ...            0    NaN    NaN         NaN   \n",
      "1212         Lvl    AllPub    ...            0    NaN    NaN         NaN   \n",
      "401          Lvl    AllPub    ...            0    NaN    NaN         NaN   \n",
      "1131         Lvl    AllPub    ...            0    NaN  MnPrv         NaN   \n",
      "547          Lvl    AllPub    ...            0    NaN    NaN         NaN   \n",
      "\n",
      "     MiscVal MoSold YrSold  SaleType  SaleCondition  SalePrice  \n",
      "119        0      7   2006       New        Partial     163990  \n",
      "1212       0      8   2009        WD         Normal     113000  \n",
      "401        0      7   2006       New        Partial     164990  \n",
      "1131       0      9   2007       Oth        Abnorml      93500  \n",
      "547        0      4   2007        WD         Normal     129500  \n",
      "\n",
      "[5 rows x 81 columns]\n"
     ]
    }
   ],
   "source": [
    "# Load Data\n",
    "data = pd.read_csv('data/train.csv')\n",
    "\n",
    "# Split into Train and Validation sets\n",
    "split_point = int(len(data) * 0.8)\n",
    "data = data.reindex(np.random.permutation(data.index))\n",
    "\n",
    "train_data = data[:split_point]\n",
    "val_data = data[split_point:]\n",
    "\n",
    "print('Training data({0[0]},{0[1]})'.format(train_data.shape))\n",
    "print(train_data.head())\n",
    "print()\n",
    "print('Validation data({0[0]},{0[1]})'.format(val_data.shape))\n",
    "print(val_data.head())"
   ]
  },
  {
   "cell_type": "code",
   "execution_count": 253,
   "metadata": {
    "collapsed": false
   },
   "outputs": [],
   "source": [
    "# Extract X(with 1 feature) and Y from the train and test sets\n",
    "X_train = train_data['1stFlrSF']\n",
    "y_train = train_data['SalePrice']\n",
    "\n",
    "X_val = val_data['1stFlrSF']\n",
    "y_val = val_data['SalePrice']"
   ]
  },
  {
   "cell_type": "code",
   "execution_count": 254,
   "metadata": {
    "collapsed": false
   },
   "outputs": [],
   "source": [
    "# Cost Function\n",
    "def computeCost(X, y, theta):\n",
    "    m = len(y)\n",
    "\n",
    "    P = np.matmul(X, theta).flatten()\n",
    "    E = (P - y).pow(2)\n",
    "    J = E.sum() / (2 * m)\n",
    "\n",
    "    return J"
   ]
  },
  {
   "cell_type": "code",
   "execution_count": 255,
   "metadata": {
    "collapsed": false
   },
   "outputs": [],
   "source": [
    "# Gradient Descent Function\n",
    "def gradientDescent(X, y, theta, alpha, num_iters):\n",
    "    m = len(y)\n",
    "    J_history = np.zeros((num_iters, 1))\n",
    "\n",
    "    for i in range(num_iters):\n",
    "        P = np.matmul(X, theta).flatten()\n",
    "        E1 = (P - y) * X[:, 0]\n",
    "        E2 = (P - y) * X[:, 1]\n",
    "        theta[0][0] = theta[0][0] - alpha * (1.0 / m) * E1.sum()\n",
    "        theta[1][0] = theta[1][0] - alpha * (1.0 / m) * E2.sum()\n",
    "        \n",
    "        J_history[i] = computeCost(X, y, theta);\n",
    "    \n",
    "    return theta, J_history"
   ]
  },
  {
   "cell_type": "code",
   "execution_count": 256,
   "metadata": {
    "collapsed": false
   },
   "outputs": [],
   "source": [
    "# Add a column of ones to X (interception data)\n",
    "m = len(y_train)\n",
    "temp = np.ones(shape=(m, 2))\n",
    "temp[:, 1] = X_train\n",
    "X_train = temp\n",
    "\n",
    "# Initialize Theta\n",
    "theta = np.zeros(shape=(2, 1))\n",
    "\n",
    "# Gradient Descent Settings\n",
    "iterations = 3000\n",
    "alpha = 0.01\n"
   ]
  },
  {
   "cell_type": "code",
   "execution_count": 257,
   "metadata": {
    "collapsed": false
   },
   "outputs": [
    {
     "name": "stdout",
     "output_type": "stream",
     "text": [
      "(array([[ nan],\n",
      "       [ nan]]), array([[  4.14783483e+18],\n",
      "       [  9.64539163e+26],\n",
      "       [  2.24294321e+35],\n",
      "       ..., \n",
      "       [             nan],\n",
      "       [             nan],\n",
      "       [             nan]]))\n"
     ]
    }
   ],
   "source": [
    "print(gradientDescent(X_train, y_train, theta, alpha, iterations))"
   ]
  },
  {
   "cell_type": "code",
   "execution_count": null,
   "metadata": {
    "collapsed": true
   },
   "outputs": [],
   "source": []
  }
 ],
 "metadata": {
  "kernelspec": {
   "display_name": "Python 3",
   "language": "python",
   "name": "python3"
  },
  "language_info": {
   "codemirror_mode": {
    "name": "ipython",
    "version": 3
   },
   "file_extension": ".py",
   "mimetype": "text/x-python",
   "name": "python",
   "nbconvert_exporter": "python",
   "pygments_lexer": "ipython3",
   "version": "3.5.2"
  }
 },
 "nbformat": 4,
 "nbformat_minor": 1
}
