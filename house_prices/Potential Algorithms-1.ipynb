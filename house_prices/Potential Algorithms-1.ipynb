{
 "cells": [
  {
   "cell_type": "markdown",
   "metadata": {},
   "source": [
    "A Survey of Naïve Bayes Machine Learning approach in\n",
    "Text Document Classification \n",
    "* <http://arxiv.org/pdf/1003.1795.pdf>\n",
    "* K-Nearest-Neighbors\n",
    "* Naive Bayes & Bayesian Nets\n",
    "* Support Vector Machine\n",
    "* Keyword Ranking\n",
    "* BaseNP Noun Phrase"
   ]
  },
  {
   "cell_type": "markdown",
   "metadata": {},
   "source": [
    "Document Classification Using Expectation Maximization with Semi Supervised Learning \n",
    "* <http://arxiv.org/pdf/1112.2028.pdf>\n",
    "* Frequency based word vectorization\n",
    "* DNN\n",
    "* Decision Tree\n",
    "* Expectation Maximization\n",
    "* Naive Bayes\n"
   ]
  },
  {
   "cell_type": "markdown",
   "metadata": {},
   "source": [
    "A comparison of SVM and RVM for Document Classification\n",
    "* <http://arxiv.org/pdf/1301.2785.pdf>\n",
    "* Porter's Stemming\n",
    "* SVM\n",
    "* RVM\n",
    "* RVM won in all examples"
   ]
  },
  {
   "cell_type": "markdown",
   "metadata": {},
   "source": [
    "N-gram-based Low-Dimensional Representation for Document Classification\n",
    "* <http://arxiv.org/pdf/1412.6277.pdf>\n",
    "* Word2vec\n",
    "* K-means"
   ]
  },
  {
   "cell_type": "markdown",
   "metadata": {},
   "source": [
    "Document Classification by Inversion of Distributed Language Representations\n",
    "* <http://arxiv.org/pdf/1504.07295.pdf>\n",
    "* Bayesian Inversion applied to word2vec, bow and dbow"
   ]
  },
  {
   "cell_type": "markdown",
   "metadata": {},
   "source": [
    "Text Classification: A Sequential Reading Approach\n",
    "* <http://arxiv.org/pdf/1107.1322.pdf>\n",
    "* Custom SVM / Markov Chain combination for sequentially reading text"
   ]
  },
  {
   "cell_type": "markdown",
   "metadata": {},
   "source": [
    "Novel Text Categorization by Amalgamation of Augmented K-Nearest Neighbourhood Classification and K-Medoids Clustering\n",
    "* <http://arxiv.org/pdf/1312.2375.pdf>\n",
    "* Doc2vec\n",
    "* K-nearest-neighbor"
   ]
  },
  {
   "cell_type": "markdown",
   "metadata": {},
   "source": [
    "A Comparative Study of Machine Learning Methods for Verbal Autopsy Text Classification\n",
    "* <http://arxiv.org/pdf/1402.4380.pdf>\n",
    "* Term Weighting\n",
    "* SVM"
   ]
  },
  {
   "cell_type": "markdown",
   "metadata": {},
   "source": [
    "Credibility Adjusted Term Frequency: A Supervised Term Weighting Scheme for Sentiment Analysis and Text Classification\n",
    "* <http://arxiv.org/pdf/1405.3518.pdf>\n",
    "* Term Weighting\n",
    "* NBSVM"
   ]
  },
  {
   "cell_type": "markdown",
   "metadata": {},
   "source": [
    "Naive Bayes and Text Classification I\n",
    "* <http://arxiv.org/pdf/1410.5329.pdf>\n",
    "* Fairly comprehensive guide on Naive Bayes techniques"
   ]
  },
  {
   "cell_type": "markdown",
   "metadata": {},
   "source": [
    "A C-LSTM Neural Network for Text Classification\n",
    "* <http://arxiv.org/pdf/1511.08630.pdf>\n",
    "* n-gram features through convolution\n",
    "* LSTM"
   ]
  },
  {
   "cell_type": "markdown",
   "metadata": {},
   "source": [
    "Sequential Short-Text Classification with Recurrent and Convolutional Neural Networks\n",
    "* <http://arxiv.org/pdf/1603.03827.pdf>\n",
    "* doc2vec\n",
    "* CNN\n",
    "* LSTM"
   ]
  },
  {
   "cell_type": "markdown",
   "metadata": {},
   "source": [
    "Rationale-Augmented Convolutional Neural Networks for Text Classification\n",
    "* <http://arxiv.org/pdf/1605.04469.pdf>\n",
    "* Essentially sentance2vec\n",
    "* CNN"
   ]
  },
  {
   "cell_type": "markdown",
   "metadata": {},
   "source": [
    "Recurrent Neural Network for Text Classification with Multi-Task Learning\n",
    "* <http://arxiv.org/pdf/1605.05101.pdf>\n",
    "* Case study comparing different classification algorithms\n",
    "* NBOW\n",
    "* MV-RNN\n",
    "* RNTN\n",
    "* DCNN\n",
    "* PV\n",
    "* Tree-LSTM"
   ]
  },
  {
   "cell_type": "markdown",
   "metadata": {},
   "source": [
    "Convolutional Neural Networks for Sentence Classification\n",
    "* <http://arxiv.org/pdf/1408.5882.pdf>\n",
    "* word2vec\n",
    "* CNN\n",
    "* This is the paper our POC was based off of"
   ]
  },
  {
   "cell_type": "markdown",
   "metadata": {},
   "source": [
    "A Sensitivity Analysis of (and Practitioners’ Guide to) Convolutional Neural Networks for Sentence Classification\n",
    "* <http://arxiv.org/pdf/1510.03820.pdf>\n",
    "* This is a study done of different CNN implementations for sentence classification"
   ]
  },
  {
   "cell_type": "markdown",
   "metadata": {},
   "source": [
    "MGNC-CNN: A Simple Approach to Exploiting Multiple Word Embeddings for Sentence Classification\n",
    "* <http://arxiv.org/pdf/1603.00968.pdf>\n",
    "* A different take on previous CNN approaches using multi-dimensional embeddings"
   ]
  },
  {
   "cell_type": "markdown",
   "metadata": {},
   "source": [
    "Multichannel Variable-Size Convolution for Sentence Classification\n",
    "* <http://arxiv.org/pdf/1603.04513.pdf>\n",
    "* Multi-channel feature maps\n",
    "* CNN + k-max pooling + NN Layer + Logistic Regression Layer"
   ]
  }
 ],
 "metadata": {
  "kernelspec": {
   "display_name": "Python 3",
   "language": "python",
   "name": "python3"
  },
  "language_info": {
   "codemirror_mode": {
    "name": "ipython",
    "version": 3
   },
   "file_extension": ".py",
   "mimetype": "text/x-python",
   "name": "python",
   "nbconvert_exporter": "python",
   "pygments_lexer": "ipython3",
   "version": "3.5.2"
  }
 },
 "nbformat": 4,
 "nbformat_minor": 0
}
